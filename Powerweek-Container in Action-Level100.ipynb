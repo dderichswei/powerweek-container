{
 "cells": [
  {
   "cell_type": "markdown",
   "metadata": {},
   "source": [
    "created by Dirk Derichsweiler, k8s@hpe.com, April 2020"
   ]
  },
  {
   "cell_type": "markdown",
   "metadata": {},
   "source": [
    "**IMPORTANT:** select the right server"
   ]
  },
  {
   "cell_type": "code",
   "execution_count": 1,
   "metadata": {
    "ExecuteTime": {
     "end_time": "2020-05-04T18:19:52.596272Z",
     "start_time": "2020-05-04T18:19:52.482240Z"
    }
   },
   "outputs": [
    {
     "name": "stdout",
     "output_type": "stream",
     "text": [
      "all                hcp_barem_sy480                   powerweek2-config\n",
      "azure-ddk8s        hpecp_csi_demo_admin_kubeconfig   rancher-demo02-centos\n",
      "azure-ddk8sctc2    hpecp-DDK8S-HPECP-admin-config    rancher-rke-centos\n",
      "bigmama-k3s        hpecp-DD_PLAYGROUND-admin-config\n",
      "ddk1-ddk8s-config  powerweek1-config\n"
     ]
    }
   ],
   "source": [
    "ls ~/k8sconfig"
   ]
  },
  {
   "cell_type": "code",
   "execution_count": 3,
   "metadata": {
    "ExecuteTime": {
     "end_time": "2020-05-04T18:20:00.366067Z",
     "start_time": "2020-05-04T18:19:59.818504Z"
    }
   },
   "outputs": [
    {
     "name": "stdout",
     "output_type": "stream",
     "text": [
      "error: the server doesn't have a resource type \"nodesy\"\n"
     ]
    },
    {
     "ename": "",
     "evalue": "1",
     "output_type": "error",
     "traceback": []
    }
   ],
   "source": [
    "export KUBECONFIG=~/k8sconfig/powerweek1-config"
   ]
  },
  {
   "cell_type": "markdown",
   "metadata": {},
   "source": [
    "# Powerweek - Containers in Action - Level 100"
   ]
  },
  {
   "cell_type": "markdown",
   "metadata": {
    "ExecuteTime": {
     "start_time": "2020-05-04T14:36:50.205Z"
    }
   },
   "source": [
    "<img src=\"media/nodes.png\" alt=\"SC\" width=\"700\" height=\"700\" style=\"float:left\">"
   ]
  },
  {
   "cell_type": "code",
   "execution_count": 4,
   "metadata": {
    "ExecuteTime": {
     "end_time": "2020-05-04T18:20:08.307828Z",
     "start_time": "2020-05-04T18:20:08.123297Z"
    }
   },
   "outputs": [
    {
     "name": "stdout",
     "output_type": "stream",
     "text": [
      "NAME   STATUS   ROLES    AGE    VERSION\n",
      "ddk1   Ready    master   260d   v1.17.0\n",
      "ddk2   Ready    <none>   117d   v1.17.0\n",
      "ddk3   Ready    <none>   117d   v1.17.0\n",
      "ddk4   Ready    <none>   117d   v1.17.0\n",
      "ddk5   Ready    <none>   117d   v1.17.0\n",
      "ddk6   Ready    <none>   117d   v1.17.0\n"
     ]
    }
   ],
   "source": [
    "kubectl get nodes"
   ]
  },
  {
   "cell_type": "code",
   "execution_count": 5,
   "metadata": {
    "ExecuteTime": {
     "end_time": "2020-05-04T18:20:11.129715Z",
     "start_time": "2020-05-04T18:20:10.911337Z"
    }
   },
   "outputs": [
    {
     "name": "stdout",
     "output_type": "stream",
     "text": [
      "Name:               ddk1\n",
      "Roles:              master\n",
      "Labels:             beta.kubernetes.io/arch=amd64\n",
      "                    beta.kubernetes.io/os=linux\n",
      "                    kubernetes.io/arch=amd64\n",
      "                    kubernetes.io/hostname=ddk1\n",
      "                    kubernetes.io/os=linux\n",
      "                    node-role.kubernetes.io/master=\n",
      "                    rook-edgefs=cluster\n",
      "Annotations:        csi.volume.kubernetes.io/nodeid:\n",
      "                      {\"csi.hpe.com\":\"00505684-e6f1-6464-6b31-000000000000\",\"io.rancher.longhorn\":\"ddk1\",\"rook-ceph.rbd.csi.ceph.com\":\"ddk1\"}\n",
      "                    kubeadm.alpha.kubernetes.io/cri-socket: /var/run/dockershim.sock\n",
      "                    node.alpha.kubernetes.io/ttl: 0\n",
      "                    projectcalico.org/IPv4Address: 10.0.31.73/24\n",
      "                    projectcalico.org/IPv4IPIPTunnelAddr: 192.168.12.128\n",
      "                    volumes.kubernetes.io/controller-managed-attach-detach: true\n",
      "CreationTimestamp:  Sun, 18 Aug 2019 15:57:13 +0200\n",
      "Taints:             key=value:NoSchedule\n",
      "Unschedulable:      false\n",
      "Lease:\n",
      "  HolderIdentity:  ddk1\n",
      "  AcquireTime:     <unset>\n",
      "  RenewTime:       Mon, 04 May 2020 20:20:04 +0200\n",
      "Conditions:\n",
      "  Type                 Status  LastHeartbeatTime                 LastTransitionTime                Reason                       Message\n",
      "  ----                 ------  -----------------                 ------------------                ------                       -------\n",
      "  NetworkUnavailable   False   Mon, 04 May 2020 16:03:36 +0200   Mon, 04 May 2020 16:03:36 +0200   CalicoIsUp                   Calico is running on this node\n",
      "  MemoryPressure       False   Mon, 04 May 2020 20:19:24 +0200   Thu, 12 Sep 2019 11:18:16 +0200   KubeletHasSufficientMemory   kubelet has sufficient memory available\n",
      "  DiskPressure         False   Mon, 04 May 2020 20:19:24 +0200   Thu, 12 Sep 2019 11:18:16 +0200   KubeletHasNoDiskPressure     kubelet has no disk pressure\n",
      "  PIDPressure          False   Mon, 04 May 2020 20:19:24 +0200   Thu, 12 Sep 2019 11:18:16 +0200   KubeletHasSufficientPID      kubelet has sufficient PID available\n",
      "  Ready                True    Mon, 04 May 2020 20:19:24 +0200   Sat, 07 Mar 2020 09:51:43 +0100   KubeletReady                 kubelet is posting ready status\n",
      "Addresses:\n",
      "  InternalIP:  10.0.31.73\n",
      "  Hostname:    ddk1\n",
      "Capacity:\n",
      "  cpu:                4\n",
      "  ephemeral-storage:  51175Mi\n",
      "  hugepages-1Gi:      0\n",
      "  hugepages-2Mi:      0\n",
      "  memory:             8009052Ki\n",
      "  pods:               110\n",
      "Allocatable:\n",
      "  cpu:                4\n",
      "  ephemeral-storage:  48294789041\n",
      "  hugepages-1Gi:      0\n",
      "  hugepages-2Mi:      0\n",
      "  memory:             7906652Ki\n",
      "  pods:               110\n",
      "System Info:\n",
      "  Machine ID:                 7800b467eff8401eb1e6e000fb840b4b\n",
      "  System UUID:                5D726E13-3D9F-4E46-A7A4-27F928A44B5C\n",
      "  Boot ID:                    8106de85-ebb6-453c-b612-2d2958d05845\n",
      "  Kernel Version:             3.10.0-1062.4.1.el7.x86_64\n",
      "  OS Image:                   CentOS Linux 7 (Core)\n",
      "  Operating System:           linux\n",
      "  Architecture:               amd64\n",
      "  Container Runtime Version:  docker://19.3.4\n",
      "  Kubelet Version:            v1.17.0\n",
      "  Kube-Proxy Version:         v1.17.0\n",
      "PodCIDR:                      192.168.0.0/24\n",
      "PodCIDRs:                     192.168.0.0/24\n",
      "Non-terminated Pods:          (7 in total)\n",
      "  Namespace                   Name                            CPU Requests  CPU Limits  Memory Requests  Memory Limits  AGE\n",
      "  ---------                   ----                            ------------  ----------  ---------------  -------------  ---\n",
      "  kube-system                 calico-node-22w47               250m (6%)     0 (0%)      0 (0%)           0 (0%)         117d\n",
      "  kube-system                 etcd-ddk1                       0 (0%)        0 (0%)      0 (0%)           0 (0%)         117d\n",
      "  kube-system                 hpe-csi-node-kjf7v              0 (0%)        0 (0%)      0 (0%)           0 (0%)         105d\n",
      "  kube-system                 kube-apiserver-ddk1             250m (6%)     0 (0%)      0 (0%)           0 (0%)         117d\n",
      "  kube-system                 kube-controller-manager-ddk1    200m (5%)     0 (0%)      0 (0%)           0 (0%)         117d\n",
      "  kube-system                 kube-proxy-j9sbq                0 (0%)        0 (0%)      0 (0%)           0 (0%)         117d\n",
      "  kube-system                 kube-scheduler-ddk1             100m (2%)     0 (0%)      0 (0%)           0 (0%)         117d\n",
      "Allocated resources:\n",
      "  (Total limits may be over 100 percent, i.e., overcommitted.)\n",
      "  Resource           Requests    Limits\n",
      "  --------           --------    ------\n",
      "  cpu                800m (20%)  0 (0%)\n",
      "  memory             0 (0%)      0 (0%)\n",
      "  ephemeral-storage  0 (0%)      0 (0%)\n",
      "Events:              <none>\n"
     ]
    }
   ],
   "source": [
    "kubectl describe node ddk1"
   ]
  },
  {
   "cell_type": "markdown",
   "metadata": {
    "ExecuteTime": {
     "end_time": "2020-05-04T14:52:50.948727Z",
     "start_time": "2020-05-04T14:52:50.840978Z"
    }
   },
   "source": [
    "<img src=\"media/namespaces.png\" alt=\"SC\" width=\"700\" height=\"700\" style=\"float:left\">"
   ]
  },
  {
   "cell_type": "code",
   "execution_count": 6,
   "metadata": {
    "ExecuteTime": {
     "end_time": "2020-05-04T18:20:49.353322Z",
     "start_time": "2020-05-04T18:20:49.164226Z"
    },
    "scrolled": true
   },
   "outputs": [
    {
     "name": "stdout",
     "output_type": "stream",
     "text": [
      "NAME                   STATUS   AGE\n",
      "backup                 Active   54d\n",
      "ctc                    Active   260d\n",
      "default                Active   260d\n",
      "ingress-system         Active   97d\n",
      "kube-node-lease        Active   260d\n",
      "kube-public            Active   260d\n",
      "kube-system            Active   260d\n",
      "kubernetes-dashboard   Active   133d\n",
      "longhorn-system        Active   96d\n",
      "metallb-system         Active   260d\n",
      "oneview                Active   221d\n",
      "powerweek              Active   103m\n",
      "sftp4ov                Active   212d\n",
      "stephan                Active   214d\n",
      "test-csi               Active   35d\n",
      "velero                 Active   54d\n"
     ]
    }
   ],
   "source": [
    "kubectl get namespaces"
   ]
  },
  {
   "cell_type": "code",
   "execution_count": 7,
   "metadata": {
    "ExecuteTime": {
     "end_time": "2020-05-04T18:21:03.041102Z",
     "start_time": "2020-05-04T18:20:57.734195Z"
    }
   },
   "outputs": [
    {
     "name": "stdout",
     "output_type": "stream",
     "text": [
      "namespace \"powerweek\" deleted\n"
     ]
    }
   ],
   "source": [
    "kubectl delete namespace powerweek"
   ]
  },
  {
   "cell_type": "code",
   "execution_count": null,
   "metadata": {
    "ExecuteTime": {
     "end_time": "2020-05-04T16:37:35.395762Z",
     "start_time": "2020-05-04T16:37:35.210482Z"
    },
    "scrolled": true
   },
   "outputs": [],
   "source": [
    "kubectl describe namespaces powerweek"
   ]
  },
  {
   "cell_type": "markdown",
   "metadata": {},
   "source": [
    "# connect to our external accesible cluster"
   ]
  },
  {
   "cell_type": "code",
   "execution_count": 93,
   "metadata": {
    "ExecuteTime": {
     "end_time": "2020-05-04T19:19:36.703910Z",
     "start_time": "2020-05-04T19:19:36.596029Z"
    }
   },
   "outputs": [],
   "source": [
    "export KUBECONFIG=~/k8sconfig/powerweek2-config"
   ]
  },
  {
   "cell_type": "code",
   "execution_count": 94,
   "metadata": {
    "ExecuteTime": {
     "end_time": "2020-05-04T19:19:40.104588Z",
     "start_time": "2020-05-04T19:19:38.798634Z"
    }
   },
   "outputs": [
    {
     "name": "stdout",
     "output_type": "stream",
     "text": [
      "NAME                 TYPE        CLUSTER-IP   EXTERNAL-IP   PORT(S)   AGE\n",
      "service/kubernetes   ClusterIP   10.0.0.1     <none>        443/TCP   3d10h\n"
     ]
    }
   ],
   "source": [
    "kubectl get all "
   ]
  },
  {
   "cell_type": "markdown",
   "metadata": {
    "ExecuteTime": {
     "end_time": "2020-05-04T15:09:20.251187Z",
     "start_time": "2020-05-04T15:09:20.142298Z"
    }
   },
   "source": [
    "<img src=\"media/container.png\" alt=\"SC\" width=\"350\" height=\"350\" style=\"float:left\">\n",
    "<img src=\"media/pod.png\" alt=\"SC\" width=\"700\" height=\"700\" style=\"float:left\">\n",
    "<img src=\"media/deployment.png\" alt=\"SC\" width=\"700\" height=\"700\" style=\"float:left\">\n",
    "<img src=\"media/pv.png\" alt=\"SC\" width=\"700\" height=\"700\" style=\"float:left\">"
   ]
  },
  {
   "cell_type": "code",
   "execution_count": 95,
   "metadata": {
    "ExecuteTime": {
     "end_time": "2020-05-04T19:20:11.069722Z",
     "start_time": "2020-05-04T19:20:07.710644Z"
    }
   },
   "outputs": [
    {
     "name": "stdout",
     "output_type": "stream",
     "text": [
      "deployment.apps/pwsurvey-db created\n"
     ]
    }
   ],
   "source": [
    "cat << 'EOF' | kubectl apply -f -\n",
    "---\n",
    "apiVersion: apps/v1\n",
    "kind: Deployment\n",
    "metadata:\n",
    "  name: pwsurvey-db\n",
    "spec:\n",
    "  selector:\n",
    "    matchLabels:\n",
    "      app: pwsurvey\n",
    "      tiers: backend\n",
    "  replicas: 1\n",
    "  template:\n",
    "    metadata:\n",
    "      labels:\n",
    "        app: pwsurvey\n",
    "        tiers: backend\n",
    "    spec:\n",
    "      containers:\n",
    "      - image: mariadb\n",
    "        name: pwsurvey-db\n",
    "        env:\n",
    "        - name: MYSQL_DATABASE\n",
    "          value: pwsurvey\n",
    "        - name: MYSQL_USER\n",
    "          value: pwsurvey\n",
    "        - name: MYSQL_ROOT_PASSWORD\n",
    "          value: password\n",
    "        - name: MYSQL_PASSWORD\n",
    "          value: password\n",
    "        ports:\n",
    "        - containerPort: 3306\n",
    "          name: mysql\n",
    "          \n",
    "        volumeMounts:\n",
    "        - name: pwsurvey-db\n",
    "          mountPath: /var/lib/mysql\n",
    "        - name: pwsurvey-log\n",
    "          mountPath: /var/log/mysql\n",
    "        - name: pwsurvey-etc\n",
    "          mountPath: /etc/mysql\n",
    "          \n",
    "      volumes:\n",
    "      - name: pwsurvey-db\n",
    "        hostPath:\n",
    "          type: DirectoryOrCreate\n",
    "          path: /mnt/pwsurvey-db-temp\n",
    "      - name: pwsurvey-log\n",
    "        hostPath:\n",
    "          type: DirectoryOrCreate\n",
    "          path: /mnt/pwsurvey-log-temp\n",
    "      - name: pwsurvey-etc\n",
    "        hostPath:\n",
    "          type: DirectoryOrCreate\n",
    "          path: /mnt/pwsurvey-etc-temp\n",
    "EOF"
   ]
  },
  {
   "cell_type": "code",
   "execution_count": 96,
   "metadata": {
    "ExecuteTime": {
     "end_time": "2020-05-04T19:20:16.682022Z",
     "start_time": "2020-05-04T19:20:13.581632Z"
    }
   },
   "outputs": [
    {
     "name": "stdout",
     "output_type": "stream",
     "text": [
      "deployment.apps/pwsurvey created\n"
     ]
    }
   ],
   "source": [
    "cat << 'EOF' | kubectl apply -f -\n",
    "---\n",
    "apiVersion: apps/v1\n",
    "kind: Deployment\n",
    "metadata:\n",
    "  name: pwsurvey\n",
    "spec:\n",
    "  selector:\n",
    "    matchLabels:\n",
    "      app: pwsurvey\n",
    "      tiers: frontend\n",
    "  replicas: 1\n",
    "  template:\n",
    "    metadata:\n",
    "      labels:\n",
    "        app: pwsurvey\n",
    "        tiers: frontend\n",
    "    spec:\n",
    "      containers:\n",
    "      - image: fjudith/limesurvey\n",
    "        name: pwsurvey\n",
    "        env:\n",
    "        - name: MYSQL_DATABASE\n",
    "          value: pwsurvey-db\n",
    "        - name: MYSQL_ROOT_PASSWORD\n",
    "          value: password\n",
    "        - name: MYSQL_USER\n",
    "          value: pwsurvey\n",
    "        - name: MYSQL_PASSWORD\n",
    "          value: password\n",
    "        ports:\n",
    "        - containerPort: 80\n",
    "          name: http\n",
    "          \n",
    "#        volumeMounts:\n",
    "#        - name: pwsurvey-appl\n",
    "#          mountPath: /application/config\n",
    "\n",
    "          \n",
    "#      volumes:\n",
    "#      - name: pwsurvey-appl\n",
    "#        hostPath:\n",
    "#          type: DirectoryOrCreate\n",
    "#          path: /mnt/pwsurvey-appl-temp\n",
    "\n",
    "\n",
    "EOF"
   ]
  },
  {
   "cell_type": "code",
   "execution_count": 61,
   "metadata": {
    "ExecuteTime": {
     "end_time": "2020-05-04T18:49:32.540773Z",
     "start_time": "2020-05-04T18:49:32.233934Z"
    },
    "scrolled": true
   },
   "outputs": [
    {
     "name": "stdout",
     "output_type": "stream",
     "text": [
      "NAME                        READY   STATUS    RESTARTS   AGE\n",
      "pwsurvey-5d596bccd6-zv6mr   1/1     Running   0          34s\n"
     ]
    }
   ],
   "source": [
    "kubectl get pods"
   ]
  },
  {
   "cell_type": "markdown",
   "metadata": {},
   "source": [
    "## Services\n",
    "\n",
    "<img src=\"media/services.png\" alt=\"SC\" width=\"700\" height=\"700\" style=\"float:left\">"
   ]
  },
  {
   "cell_type": "code",
   "execution_count": 97,
   "metadata": {
    "ExecuteTime": {
     "end_time": "2020-05-04T19:20:22.401894Z",
     "start_time": "2020-05-04T19:20:19.749215Z"
    }
   },
   "outputs": [
    {
     "name": "stdout",
     "output_type": "stream",
     "text": [
      "service/pwsurvey-db created\n",
      "service/pwsurvey created\n"
     ]
    }
   ],
   "source": [
    "cat << 'EOF' | kubectl apply -f -\n",
    "\n",
    "---\n",
    "apiVersion: v1\n",
    "kind: Service\n",
    "metadata:\n",
    "  labels:\n",
    "    app: pwsurvey\n",
    "    tiers: backend\n",
    "  name: pwsurvey-db\n",
    "spec:\n",
    "  ports:\n",
    "  - name: mysql\n",
    "    port: 3306\n",
    "    targetPort: 3306\n",
    "    protocol: TCP\n",
    "  selector:\n",
    "    app: pwsurvey\n",
    "    tiers: backend\n",
    "  type: NodePort\n",
    "  \n",
    "---\n",
    "apiVersion: v1\n",
    "kind: Service\n",
    "metadata:\n",
    "  labels:\n",
    "    app: pwsurvey\n",
    "    tiers: frontend\n",
    "  name: pwsurvey\n",
    "spec:\n",
    "  ports:\n",
    "  - name: http\n",
    "    port: 80\n",
    "    targetPort: 80\n",
    "    protocol: TCP\n",
    "  selector:\n",
    "    app: pwsurvey\n",
    "    tiers: frontend\n",
    "  type: NodePort\n",
    "\n",
    "EOF"
   ]
  },
  {
   "cell_type": "code",
   "execution_count": 98,
   "metadata": {
    "ExecuteTime": {
     "end_time": "2020-05-04T19:20:26.263160Z",
     "start_time": "2020-05-04T19:20:25.938905Z"
    },
    "scrolled": true
   },
   "outputs": [
    {
     "name": "stdout",
     "output_type": "stream",
     "text": [
      "NAME          TYPE        CLUSTER-IP    EXTERNAL-IP   PORT(S)          AGE\n",
      "kubernetes    ClusterIP   10.0.0.1      <none>        443/TCP          3d10h\n",
      "pwsurvey      NodePort    10.0.63.199   <none>        80:30395/TCP     4s\n",
      "pwsurvey-db   NodePort    10.0.83.62    <none>        3306:30116/TCP   4s\n"
     ]
    }
   ],
   "source": [
    "kubectl get svc"
   ]
  },
  {
   "cell_type": "markdown",
   "metadata": {},
   "source": [
    "# Helm\n",
    "\n",
    "<img src=\"media/helm.png\" alt=\"SC\" width=\"700\" height=\"700\" style=\"float:left\">"
   ]
  },
  {
   "cell_type": "markdown",
   "metadata": {},
   "source": [
    "# Ingress \n",
    "<img src=\"media/ingress.png\" alt=\"SC\" width=\"700\" height=\"700\" style=\"float:left\">"
   ]
  },
  {
   "cell_type": "code",
   "execution_count": 99,
   "metadata": {
    "ExecuteTime": {
     "end_time": "2020-05-04T19:20:48.218724Z",
     "start_time": "2020-05-04T19:20:41.643946Z"
    }
   },
   "outputs": [
    {
     "name": "stdout",
     "output_type": "stream",
     "text": [
      "Error from server (AlreadyExists): namespaces \"ingress-basic\" already exists\n",
      "\"stable\" has been added to your repositories\n",
      "Error: cannot re-use a name that is still in use\n"
     ]
    },
    {
     "ename": "",
     "evalue": "1",
     "output_type": "error",
     "traceback": []
    }
   ],
   "source": [
    "# Create a namespace for your ingress resources\n",
    "kubectl create namespace ingress-basic\n",
    "\n",
    "# Add the official stable repo\n",
    "helm repo add stable https://kubernetes-charts.storage.googleapis.com/\n",
    "\n",
    "# Use Helm to deploy an NGINX ingress controller\n",
    "helm install nginx stable/nginx-ingress \\\n",
    "    --namespace ingress-basic \\\n",
    "    --set controller.replicaCount=2 \\\n",
    "    --set controller.nodeSelector.\"beta\\.kubernetes\\.io/os\"=linux \\\n",
    "    --set defaultBackend.nodeSelector.\"beta\\.kubernetes\\.io/os\"=linux"
   ]
  },
  {
   "cell_type": "code",
   "execution_count": 100,
   "metadata": {
    "ExecuteTime": {
     "end_time": "2020-05-04T19:20:57.099130Z",
     "start_time": "2020-05-04T19:20:56.781638Z"
    }
   },
   "outputs": [
    {
     "name": "stdout",
     "output_type": "stream",
     "text": [
      "NAME                                  TYPE           CLUSTER-IP    EXTERNAL-IP      PORT(S)                      AGE\n",
      "cert-manager                          ClusterIP      10.0.0.31     <none>           9402/TCP                     111m\n",
      "cert-manager-webhook                  ClusterIP      10.0.127.74   <none>           443/TCP                      111m\n",
      "nginx-nginx-ingress-controller        LoadBalancer   10.0.89.24    52.156.205.223   80:31130/TCP,443:31685/TCP   113m\n",
      "nginx-nginx-ingress-default-backend   ClusterIP      10.0.17.221   <none>           80/TCP                       113m\n"
     ]
    }
   ],
   "source": [
    "kubectl get svc -n ingress-basic"
   ]
  },
  {
   "cell_type": "markdown",
   "metadata": {
    "ExecuteTime": {
     "end_time": "2020-05-04T16:00:43.834618Z",
     "start_time": "2020-05-04T16:00:43.725579Z"
    }
   },
   "source": [
    "<img src=\"media/certmanager.png\" alt=\"SC\" width=\"700\" height=\"700\" style=\"float:left\">"
   ]
  },
  {
   "cell_type": "markdown",
   "metadata": {},
   "source": [
    "**IMPORTANT - This take at least 2,5 min. to spinup the webhook, so do not hesitate to run it upfront and explain meanwhile.**"
   ]
  },
  {
   "cell_type": "code",
   "execution_count": 101,
   "metadata": {
    "ExecuteTime": {
     "end_time": "2020-05-04T19:21:21.312603Z",
     "start_time": "2020-05-04T19:21:12.885035Z"
    },
    "scrolled": true
   },
   "outputs": [
    {
     "name": "stdout",
     "output_type": "stream",
     "text": [
      "customresourcedefinition.apiextensions.k8s.io/certificaterequests.cert-manager.io unchanged\n",
      "customresourcedefinition.apiextensions.k8s.io/certificates.cert-manager.io unchanged\n",
      "customresourcedefinition.apiextensions.k8s.io/challenges.acme.cert-manager.io unchanged\n",
      "customresourcedefinition.apiextensions.k8s.io/clusterissuers.cert-manager.io unchanged\n",
      "customresourcedefinition.apiextensions.k8s.io/issuers.cert-manager.io unchanged\n",
      "customresourcedefinition.apiextensions.k8s.io/orders.acme.cert-manager.io unchanged\n",
      "error: 'cert-manager.io/disable-validation' already has a value (true), and --overwrite is false\n",
      "\"jetstack\" has been added to your repositories\n",
      "Hang tight while we grab the latest from your chart repositories...\n",
      "...Successfully got an update from the \"oteemo\" chart repository\n",
      "...Successfully got an update from the \"halkeye\" chart repository\n",
      "...Successfully got an update from the \"jetstack\" chart repository\n",
      "...Successfully got an update from the \"hpe-storage\" chart repository\n",
      "...Successfully got an update from the \"vmware-tanzu\" chart repository\n",
      "...Successfully got an update from the \"harbor\" chart repository\n",
      "...Successfully got an update from the \"bitnami\" chart repository\n",
      "...Successfully got an update from the \"stable\" chart repository\n",
      "Update Complete. ⎈ Happy Helming!⎈ \n",
      "Error: cannot re-use a name that is still in use\n"
     ]
    },
    {
     "ename": "",
     "evalue": "1",
     "output_type": "error",
     "traceback": []
    }
   ],
   "source": [
    "# Install the CustomResourceDefinition resources separately\n",
    "kubectl apply --validate=false -f https://github.com/jetstack/cert-manager/releases/download/v0.14.2/cert-manager.crds.yaml\n",
    "\n",
    "# Label the ingress-basic namespace to disable resource validation\n",
    "kubectl label namespace ingress-basic cert-manager.io/disable-validation=true\n",
    "\n",
    "# Add the Jetstack Helm repository\n",
    "helm repo add jetstack https://charts.jetstack.io\n",
    "\n",
    "# Update your local Helm chart repository cache\n",
    "helm repo update\n",
    "\n",
    "# Install the cert-manager Helm chart\n",
    "helm install \\\n",
    "  cert-manager \\\n",
    "  --namespace ingress-basic \\\n",
    "  --version v0.14.2 \\\n",
    "  jetstack/cert-manager"
   ]
  },
  {
   "cell_type": "code",
   "execution_count": 102,
   "metadata": {
    "ExecuteTime": {
     "end_time": "2020-05-04T19:21:38.549002Z",
     "start_time": "2020-05-04T19:21:38.181424Z"
    }
   },
   "outputs": [
    {
     "name": "stdout",
     "output_type": "stream",
     "text": [
      "NAME                                                   READY   STATUS    RESTARTS   AGE\n",
      "cert-manager-776b547ccd-8n44n                          1/1     Running   0          112m\n",
      "cert-manager-cainjector-95c885477-5jnkm                1/1     Running   0          112m\n",
      "cert-manager-webhook-6ff9487489-b7tsb                  1/1     Running   0          112m\n",
      "nginx-nginx-ingress-controller-74bf9bd9f5-lrzgh        1/1     Running   0          114m\n",
      "nginx-nginx-ingress-controller-74bf9bd9f5-rnnxr        1/1     Running   0          114m\n",
      "nginx-nginx-ingress-default-backend-54d7956d54-pnbck   1/1     Running   0          114m\n"
     ]
    }
   ],
   "source": [
    "kubectl get pods -n ingress-basic"
   ]
  },
  {
   "cell_type": "code",
   "execution_count": 103,
   "metadata": {
    "ExecuteTime": {
     "end_time": "2020-05-04T19:21:48.161442Z",
     "start_time": "2020-05-04T19:21:46.729748Z"
    }
   },
   "outputs": [
    {
     "name": "stdout",
     "output_type": "stream",
     "text": [
      "clusterissuer.cert-manager.io/letsencrypt created\n"
     ]
    }
   ],
   "source": [
    "cat << 'EOF' | kubectl apply -f -\n",
    "apiVersion: cert-manager.io/v1alpha2\n",
    "kind: ClusterIssuer\n",
    "metadata:\n",
    "  name: letsencrypt\n",
    "spec:\n",
    "  acme:\n",
    "    server: https://acme-v02.api.letsencrypt.org/directory\n",
    "    email: dderichsweiler@hotmail.com\n",
    "    privateKeySecretRef:\n",
    "      name: letsencrypt\n",
    "    solvers:\n",
    "    - http01:\n",
    "        ingress:\n",
    "          class: nginx\n",
    "EOF"
   ]
  },
  {
   "cell_type": "markdown",
   "metadata": {},
   "source": [
    "<img src=\"media/ingress.png\" alt=\"SC\" width=\"700\" height=\"700\" style=\"float:left\">"
   ]
  },
  {
   "cell_type": "code",
   "execution_count": 104,
   "metadata": {
    "ExecuteTime": {
     "end_time": "2020-05-04T19:22:10.031716Z",
     "start_time": "2020-05-04T19:22:08.355667Z"
    }
   },
   "outputs": [
    {
     "name": "stdout",
     "output_type": "stream",
     "text": [
      "ingress.extensions/pw.myk8s.de created\n"
     ]
    }
   ],
   "source": [
    "cat << 'EOF' | kubectl apply -f -\n",
    "---\n",
    "apiVersion: extensions/v1beta1\n",
    "kind: Ingress\n",
    "metadata:\n",
    "  name: pw.myk8s.de\n",
    "  annotations:\n",
    "    kubernetes.io/ingress.class: nginx  \n",
    "    cert-manager.io/cluster-issuer: letsencrypt\n",
    "\n",
    "spec:\n",
    "  tls:\n",
    "  - hosts:\n",
    "    - powerweek.myk8s.de\n",
    "    secretName: powerweek.myk8s.de\n",
    "  rules:\n",
    "  - host: powerweek.myk8s.de\n",
    "    http:\n",
    "      paths:\n",
    "      - path: /\n",
    "        backend:\n",
    "          serviceName: pwsurvey\n",
    "          servicePort: 80\n",
    "EOF"
   ]
  },
  {
   "cell_type": "code",
   "execution_count": 115,
   "metadata": {
    "ExecuteTime": {
     "end_time": "2020-05-04T19:25:12.506197Z",
     "start_time": "2020-05-04T19:25:12.151942Z"
    }
   },
   "outputs": [
    {
     "name": "stdout",
     "output_type": "stream",
     "text": [
      "NAME          TYPE        CLUSTER-IP    EXTERNAL-IP   PORT(S)          AGE\n",
      "kubernetes    ClusterIP   10.0.0.1      <none>        443/TCP          3d10h\n",
      "pwsurvey      NodePort    10.0.63.199   <none>        80:30395/TCP     4m50s\n",
      "pwsurvey-db   NodePort    10.0.83.62    <none>        3306:30116/TCP   4m50s\n"
     ]
    }
   ],
   "source": [
    "kubectl get svc"
   ]
  },
  {
   "cell_type": "code",
   "execution_count": 116,
   "metadata": {
    "ExecuteTime": {
     "end_time": "2020-05-04T19:25:24.929591Z",
     "start_time": "2020-05-04T19:25:24.595612Z"
    },
    "scrolled": true
   },
   "outputs": [
    {
     "name": "stdout",
     "output_type": "stream",
     "text": [
      "NAME          HOSTS                ADDRESS                 PORTS     AGE\n",
      "pw.myk8s.de   powerweek.myk8s.de   10.240.0.4,10.240.0.5   80, 443   3m15s\n"
     ]
    }
   ],
   "source": [
    "kubectl get ingress"
   ]
  },
  {
   "cell_type": "code",
   "execution_count": 113,
   "metadata": {
    "ExecuteTime": {
     "end_time": "2020-05-04T19:24:12.906107Z",
     "start_time": "2020-05-04T19:24:12.579249Z"
    }
   },
   "outputs": [
    {
     "name": "stdout",
     "output_type": "stream",
     "text": [
      "NAME                           READY   STATUS    RESTARTS   AGE\n",
      "pwsurvey-5d596bccd6-tjdtd      1/1     Running   0          3m56s\n",
      "pwsurvey-db-6d6c7965c7-gr7gf   1/1     Running   0          4m1s\n"
     ]
    }
   ],
   "source": [
    "kubectl get pods"
   ]
  },
  {
   "cell_type": "code",
   "execution_count": 35,
   "metadata": {
    "ExecuteTime": {
     "end_time": "2020-05-04T18:37:17.116438Z",
     "start_time": "2020-05-04T18:37:16.539770Z"
    },
    "scrolled": true
   },
   "outputs": [
    {
     "name": "stdout",
     "output_type": "stream",
     "text": [
      "Name:             pw.myk8s.de\n",
      "Namespace:        default\n",
      "Address:          10.240.0.4,10.240.0.5\n",
      "Default backend:  default-http-backend:80 (<none>)\n",
      "TLS:\n",
      "  powerweek.myk8s.de terminates powerweek.myk8s.de\n",
      "Rules:\n",
      "  Host                Path  Backends\n",
      "  ----                ----  --------\n",
      "  powerweek.myk8s.de  \n",
      "                      /   pwsurvey:80 (<none>)\n",
      "Annotations:\n",
      "  kubernetes.io/ingress.class:                       nginx\n",
      "  cert-manager.io/cluster-issuer:                    letsencrypt\n",
      "  kubectl.kubernetes.io/last-applied-configuration:  {\"apiVersion\":\"extensions/v1beta1\",\"kind\":\"Ingress\",\"metadata\":{\"annotations\":{\"cert-manager.io/cluster-issuer\":\"letsencrypt\",\"kubernetes.io/ingress.class\":\"nginx\"},\"name\":\"pw.myk8s.de\",\"namespace\":\"default\"},\"spec\":{\"rules\":[{\"host\":\"powerweek.myk8s.de\",\"http\":{\"paths\":[{\"backend\":{\"serviceName\":\"pwsurvey\",\"servicePort\":80},\"path\":\"/\"}]}}],\"tls\":[{\"hosts\":[\"powerweek.myk8s.de\"],\"secretName\":\"powerweek.myk8s.de\"}]}}\n",
      "\n",
      "Events:\n",
      "  Type    Reason  Age   From                      Message\n",
      "  ----    ------  ----  ----                      -------\n",
      "  Normal  CREATE  50s   nginx-ingress-controller  Ingress default/pw.myk8s.de\n",
      "  Normal  CREATE  50s   nginx-ingress-controller  Ingress default/pw.myk8s.de\n",
      "  Normal  UPDATE  41s   nginx-ingress-controller  Ingress default/pw.myk8s.de\n",
      "  Normal  UPDATE  41s   nginx-ingress-controller  Ingress default/pw.myk8s.de\n"
     ]
    }
   ],
   "source": [
    "kubectl describe ingress pw.myk8s.de"
   ]
  },
  {
   "cell_type": "code",
   "execution_count": null,
   "metadata": {
    "ExecuteTime": {
     "end_time": "2020-05-04T17:34:11.433573Z",
     "start_time": "2020-05-04T17:34:11.115264Z"
    }
   },
   "outputs": [],
   "source": [
    "kubectl get svc"
   ]
  },
  {
   "cell_type": "markdown",
   "metadata": {},
   "source": [
    "<img src=\"media/secret.png\" alt=\"SC\" width=\"700\" height=\"700\" style=\"float:left\">"
   ]
  },
  {
   "cell_type": "code",
   "execution_count": 117,
   "metadata": {
    "ExecuteTime": {
     "end_time": "2020-05-04T19:25:32.836905Z",
     "start_time": "2020-05-04T19:25:32.490727Z"
    },
    "scrolled": true
   },
   "outputs": [
    {
     "name": "stdout",
     "output_type": "stream",
     "text": [
      "NAME                  TYPE                                  DATA   AGE\n",
      "default-token-g8gzp   kubernetes.io/service-account-token   3      3d10h\n",
      "powerweek.myk8s.de    kubernetes.io/tls                     3      71m\n",
      "pw.myk8s.de           kubernetes.io/tls                     3      131m\n"
     ]
    }
   ],
   "source": [
    "kubectl get secret"
   ]
  },
  {
   "cell_type": "code",
   "execution_count": null,
   "metadata": {
    "ExecuteTime": {
     "end_time": "2020-05-04T18:10:11.750762Z",
     "start_time": "2020-05-04T18:10:11.386985Z"
    },
    "scrolled": true
   },
   "outputs": [],
   "source": [
    "kubectl describe secret pw.myk8s.de"
   ]
  },
  {
   "cell_type": "code",
   "execution_count": null,
   "metadata": {
    "ExecuteTime": {
     "end_time": "2020-05-04T17:36:21.093090Z",
     "start_time": "2020-05-04T17:36:20.739441Z"
    }
   },
   "outputs": [],
   "source": [
    "kubectl get svc -A"
   ]
  },
  {
   "cell_type": "markdown",
   "metadata": {},
   "source": [
    "# delete demo"
   ]
  },
  {
   "cell_type": "code",
   "execution_count": 118,
   "metadata": {
    "ExecuteTime": {
     "end_time": "2020-05-04T19:28:27.450766Z",
     "start_time": "2020-05-04T19:28:19.089303Z"
    }
   },
   "outputs": [
    {
     "name": "stdout",
     "output_type": "stream",
     "text": [
      "ingress.extensions \"pw.myk8s.de\" deleted\n",
      "clusterissuer.cert-manager.io \"letsencrypt\" deleted\n",
      "service \"pwsurvey-db\" deleted\n",
      "service \"pwsurvey\" deleted\n",
      "deployment.apps \"pwsurvey-db\" deleted\n",
      "deployment.apps \"pwsurvey\" deleted\n"
     ]
    }
   ],
   "source": [
    "cat << 'EOF' | kubectl delete -f -\n",
    "---\n",
    "apiVersion: extensions/v1beta1\n",
    "kind: Ingress\n",
    "metadata:\n",
    "  name: pw.myk8s.de\n",
    "  annotations:\n",
    "    kubernetes.io/ingress.class: nginx  \n",
    "    cert-manager.io/cluster-issuer: letsencrypt\n",
    "\n",
    "spec:\n",
    "  tls:\n",
    "  - hosts:\n",
    "    - pw.myk8s.de\n",
    "    secretName: pw.myk8s.de\n",
    "  rules:\n",
    "  - host: pw.myk8s.de\n",
    "    http:\n",
    "      paths:\n",
    "      - path: /\n",
    "        backend:\n",
    "          serviceName: pwsurvey\n",
    "          servicePort: 80\n",
    "          \n",
    "---\n",
    "apiVersion: cert-manager.io/v1alpha2\n",
    "kind: ClusterIssuer\n",
    "metadata:\n",
    "  name: letsencrypt\n",
    "spec:\n",
    "  acme:\n",
    "    server: https://acme-v02.api.letsencrypt.org/directory\n",
    "    email: dderichsweiler@hotmail.com\n",
    "    privateKeySecretRef:\n",
    "      name: letsencrypt\n",
    "    solvers:\n",
    "    - http01:\n",
    "        ingress:\n",
    "          class: nginx\n",
    "          \n",
    "---\n",
    "apiVersion: v1\n",
    "kind: Service\n",
    "metadata:\n",
    "  labels:\n",
    "    app: pwsurvey\n",
    "    tiers: backend\n",
    "  name: pwsurvey-db\n",
    "spec:\n",
    "  ports:\n",
    "  - name: mysql\n",
    "    port: 3306\n",
    "    targetPort: 3306\n",
    "    protocol: TCP\n",
    "  selector:\n",
    "    app: pwsurvey\n",
    "    tiers: backend\n",
    "  type: NodePort\n",
    "  \n",
    "---\n",
    "apiVersion: v1\n",
    "kind: Service\n",
    "metadata:\n",
    "  labels:\n",
    "    app: pwsurvey\n",
    "    tiers: frontend\n",
    "  name: pwsurvey\n",
    "spec:\n",
    "  ports:\n",
    "  - name: http\n",
    "    port: 80\n",
    "    targetPort: 80\n",
    "    protocol: TCP\n",
    "  selector:\n",
    "    app: pwsurvey\n",
    "    tiers: frontend\n",
    "  type: NodePort\n",
    "  \n",
    "---\n",
    "apiVersion: apps/v1\n",
    "kind: Deployment\n",
    "metadata:\n",
    "  name: pwsurvey-db\n",
    "spec:\n",
    "  selector:\n",
    "    matchLabels:\n",
    "      app: pwsurvey\n",
    "      tiers: backend\n",
    "  replicas: 1\n",
    "  template:\n",
    "    metadata:\n",
    "      labels:\n",
    "        app: pwsurvey\n",
    "        tiers: backend\n",
    "    spec:\n",
    "      containers:\n",
    "      - image: mariadb\n",
    "        name: pwsurvey-db\n",
    "        env:\n",
    "        - name: MYSQL_DATABASE\n",
    "          value: pwsurvey\n",
    "        - name: MYSQL_USER\n",
    "          value: pwsurvey\n",
    "        - name: MYSQL_ROOT_PASSWORD\n",
    "          value: password\n",
    "        - name: MYSQL_PASSWORD\n",
    "          value: password\n",
    "        ports:\n",
    "        - containerPort: 3306\n",
    "          name: mysql\n",
    "\n",
    "---\n",
    "apiVersion: apps/v1\n",
    "kind: Deployment\n",
    "metadata:\n",
    "  name: pwsurvey\n",
    "spec:\n",
    "  selector:\n",
    "    matchLabels:\n",
    "      app: pwsurvey\n",
    "      tiers: frontend\n",
    "  replicas: 1\n",
    "  template:\n",
    "    metadata:\n",
    "      labels:\n",
    "        app: pwsurvey\n",
    "        tiers: frontend\n",
    "    spec:\n",
    "      containers:\n",
    "      - image: fjudith/limesurvey\n",
    "        name: pwsurvey\n",
    "        env:\n",
    "        - name: MYSQL_DATABASE\n",
    "          value: pwsurvey-db\n",
    "        - name: MYSQL_ROOT_PASSWORD\n",
    "          value: password\n",
    "        - name: MYSQL_USER\n",
    "          value: pwsurvey\n",
    "        - name: MYSQL_PASSWORD\n",
    "          value: password\n",
    "        ports:\n",
    "        - containerPort: 80\n",
    "          name: http     \n",
    "EOF"
   ]
  },
  {
   "cell_type": "code",
   "execution_count": null,
   "metadata": {
    "ExecuteTime": {
     "end_time": "2020-05-04T17:15:25.000939Z",
     "start_time": "2020-05-04T17:15:23.206412Z"
    },
    "scrolled": false
   },
   "outputs": [],
   "source": [
    "helm uninstall -n ingress-basic nginx\n",
    "helm uninstall -n ingress-basic cert-manager"
   ]
  },
  {
   "cell_type": "code",
   "execution_count": null,
   "metadata": {
    "ExecuteTime": {
     "end_time": "2020-05-04T17:17:33.381544Z",
     "start_time": "2020-05-04T17:15:34.072658Z"
    },
    "scrolled": true
   },
   "outputs": [],
   "source": [
    "kubectl delete ns ingress-basic"
   ]
  }
 ],
 "metadata": {
  "hide_input": false,
  "kernelspec": {
   "display_name": "Bash",
   "language": "bash",
   "name": "bash"
  },
  "language_info": {
   "codemirror_mode": "shell",
   "file_extension": ".sh",
   "mimetype": "text/x-sh",
   "name": "bash"
  },
  "toc": {
   "base_numbering": 1,
   "nav_menu": {},
   "number_sections": true,
   "sideBar": true,
   "skip_h1_title": false,
   "title_cell": "Table of Contents",
   "title_sidebar": "Contents",
   "toc_cell": false,
   "toc_position": {
    "height": "calc(100% - 180px)",
    "left": "10px",
    "top": "150px",
    "width": "512px"
   },
   "toc_section_display": true,
   "toc_window_display": true
  },
  "varInspector": {
   "cols": {
    "lenName": 16,
    "lenType": 16,
    "lenVar": 40
   },
   "kernels_config": {
    "python": {
     "delete_cmd_postfix": "",
     "delete_cmd_prefix": "del ",
     "library": "var_list.py",
     "varRefreshCmd": "print(var_dic_list())"
    },
    "r": {
     "delete_cmd_postfix": ") ",
     "delete_cmd_prefix": "rm(",
     "library": "var_list.r",
     "varRefreshCmd": "cat(var_dic_list()) "
    }
   },
   "types_to_exclude": [
    "module",
    "function",
    "builtin_function_or_method",
    "instance",
    "_Feature"
   ],
   "window_display": false
  }
 },
 "nbformat": 4,
 "nbformat_minor": 2
}
